{
 "cells": [
  {
   "cell_type": "markdown",
   "metadata": {},
   "source": [
    "## Lifestyle and Wellbeing Data\n",
    "This dataset is available in https://www.kaggle.com/datasets/ydalat/lifestyle-and-wellbeing-data?resource=download. The survey used to gather this data can be found in http://www.authentic-happiness.com/your-life-satisfaction-score and includes 24 attributes describing how we live our lives, including a calculated field, the WorkLifeBalance_Score. After exploring the data, it was built two different machine learning models in order to predict the body mass index-(BMI) from the lifestyle of the respondents."
   ]
  },
  {
   "cell_type": "markdown",
   "metadata": {},
   "source": [
    "The dataset has 15,971 survey responses and 24 features described below:\n",
    "\n",
    "    \n",
    "**Timestamp** - Date when survey was submitted.\n",
    "\n",
    "\n",
    "**FRUITS_VEGGIES** - HOW MANY FRUITS OR VEGETABLES DO YOU EAT EVERYDAY?\n",
    "\n",
    "\n",
    "**DAILY_STRESS** - HOW MUCH STRESS DO YOU TYPICALLY EXPERIENCE EVERYDAY?\n",
    "\n",
    "\n",
    "**PLACES_VISITED** - HOW MANY NEW PLACES DO YOU VISIT? * Over a period of 12 months.\n",
    "\n",
    "\n",
    "**CORE_CIRCLE** - HOW MANY PEOPLE ARE VERY CLOSE TO YOU? * i.e. close family and friends ready to provide you with a long-term unconditional support.\n",
    "\n",
    "\n",
    "**SUPPORTING_OTHERS** - HOW MANY PEOPLE DO YOU HELP ACHIEVE A BETTER LIFE?\n",
    "\n",
    "\n",
    "**SOCIAL_NETWORK** - WITH HOW MANY PEOPLE DO YOU INTERACT WITH DURING A TYPICAL DAY? \n",
    "\n",
    "\n",
    "**ACHIEVEMENT** - HOW MANY REMARKABLE ACHIEVEMENTS ARE YOU PROUD OF? * Over the last 12 months.\n",
    "\n",
    "\n",
    "**DONATION** - HOW MANY TIMES DO YOU DONATE YOUR TIME OR MONEY TO GOOD CAUSES? * Over a period of 12 months. \n",
    "\n",
    "\n",
    "**BMI_RANGE** - WHAT IS YOUR BODY MASS INDEX (BMI) RANGE?\n",
    "\n",
    "\n",
    "**TODO_COMPLETED** - HOW WELL DO YOU COMPLETE YOUR WEEKLY TO-DO LISTS?\n",
    "\n",
    "\n",
    "**FLOW** - IN A TYPICAL DAY, HOW MANY HOURS DO YOU EXPERIENCE \"FLOW\"? Flow is defined as the mental state, in which you are fully immersed in performing an activity.\n",
    "\n",
    "\n",
    "**DAILY_STEPS** - HOW MANY STEPS (IN THOUSANDS) DO YOU TYPICALLY WALK EVERYDAY?\n",
    "\n",
    "\n",
    "**LIVE_VISION**  -  FOR HOW MANY YEARS AHEAD IS YOUR LIFE VISION VERY CLEAR FOR? \n",
    "\n",
    "\n",
    "**SLEEP_HOURS** - ABOUT HOW LONG DO YOU TYPICALLY SLEEP?\n",
    "\n",
    "\n",
    "**LOST_VACATION** - HOW MANY DAYS OF VACATION DO YOU TYPICALLY LOSE EVERY YEAR?\n",
    "\n",
    "\n",
    "**DAILY_SHOUTING** - HOW OFTEN DO YOU SHOUT OR SULK AT SOMEBODY? * In a typical week.\n",
    "\n",
    "\n",
    "**SUFFICIENT_INCOME** - HOW SUFFICIENT IS YOUR INCOME TO COVER BASIC LIFE EXPENSES?\n",
    "\n",
    "\n",
    "**PERSONAL_AWARDS** - HOW MANY RECOGNITIONS HAVE YOU RECEIVED IN YOUR LIFE? \n",
    "\n",
    "\n",
    "**TIME_FOR_PASSION** - HOW MANY HOURS DO YOU SPEND EVERYDAY DOING WHAT YOU ARE PASSIONATE ABOUT? \n",
    "\n",
    "\n",
    "**WEEKLY_MEDITATION** - IN A TYPICAL WEEK, HOW MANY TIMES DO YOU HAVE THE OPPORTUNITY TO THINK ABOUT YOURSELF?\n",
    "\n",
    "\n",
    "**AGE** - YOUR AGE RANGE.\n",
    "\n",
    "\n",
    "**GENDER** - YOUR GENDER.\n",
    "\n",
    "\n",
    "**WORK_LIFE_BALANCE_SCORE** - CALCULATED SCORE."
   ]
  },
  {
   "cell_type": "markdown",
   "metadata": {},
   "source": [
    "## Imports\n"
   ]
  },
  {
   "cell_type": "code",
   "execution_count": 24,
   "metadata": {},
   "outputs": [],
   "source": [
    "import pandas as pd\n",
    "import numpy as np\n",
    "import matplotlib.pyplot as plt\n",
    "import seaborn as sns\n",
    "%matplotlib inline"
   ]
  },
  {
   "cell_type": "markdown",
   "metadata": {},
   "source": [
    "## Getting and checking the data"
   ]
  },
  {
   "cell_type": "code",
   "execution_count": 25,
   "metadata": {},
   "outputs": [],
   "source": [
    "data = pd.read_csv('Wellbeing_and_lifestyle_data_Kaggle.csv')"
   ]
  },
  {
   "cell_type": "code",
   "execution_count": 26,
   "metadata": {},
   "outputs": [
    {
     "data": {
      "text/html": [
       "<div>\n",
       "<style scoped>\n",
       "    .dataframe tbody tr th:only-of-type {\n",
       "        vertical-align: middle;\n",
       "    }\n",
       "\n",
       "    .dataframe tbody tr th {\n",
       "        vertical-align: top;\n",
       "    }\n",
       "\n",
       "    .dataframe thead th {\n",
       "        text-align: right;\n",
       "    }\n",
       "</style>\n",
       "<table border=\"1\" class=\"dataframe\">\n",
       "  <thead>\n",
       "    <tr style=\"text-align: right;\">\n",
       "      <th></th>\n",
       "      <th>Timestamp</th>\n",
       "      <th>FRUITS_VEGGIES</th>\n",
       "      <th>DAILY_STRESS</th>\n",
       "      <th>PLACES_VISITED</th>\n",
       "      <th>CORE_CIRCLE</th>\n",
       "      <th>SUPPORTING_OTHERS</th>\n",
       "      <th>SOCIAL_NETWORK</th>\n",
       "      <th>ACHIEVEMENT</th>\n",
       "      <th>DONATION</th>\n",
       "      <th>BMI_RANGE</th>\n",
       "      <th>...</th>\n",
       "      <th>SLEEP_HOURS</th>\n",
       "      <th>LOST_VACATION</th>\n",
       "      <th>DAILY_SHOUTING</th>\n",
       "      <th>SUFFICIENT_INCOME</th>\n",
       "      <th>PERSONAL_AWARDS</th>\n",
       "      <th>TIME_FOR_PASSION</th>\n",
       "      <th>WEEKLY_MEDITATION</th>\n",
       "      <th>AGE</th>\n",
       "      <th>GENDER</th>\n",
       "      <th>WORK_LIFE_BALANCE_SCORE</th>\n",
       "    </tr>\n",
       "  </thead>\n",
       "  <tbody>\n",
       "    <tr>\n",
       "      <th>0</th>\n",
       "      <td>7/7/15</td>\n",
       "      <td>3</td>\n",
       "      <td>2</td>\n",
       "      <td>2</td>\n",
       "      <td>5</td>\n",
       "      <td>0</td>\n",
       "      <td>5</td>\n",
       "      <td>2</td>\n",
       "      <td>0</td>\n",
       "      <td>1</td>\n",
       "      <td>...</td>\n",
       "      <td>7</td>\n",
       "      <td>5</td>\n",
       "      <td>5</td>\n",
       "      <td>1</td>\n",
       "      <td>4</td>\n",
       "      <td>0</td>\n",
       "      <td>5</td>\n",
       "      <td>36 to 50</td>\n",
       "      <td>Female</td>\n",
       "      <td>609.5</td>\n",
       "    </tr>\n",
       "    <tr>\n",
       "      <th>1</th>\n",
       "      <td>7/7/15</td>\n",
       "      <td>2</td>\n",
       "      <td>3</td>\n",
       "      <td>4</td>\n",
       "      <td>3</td>\n",
       "      <td>8</td>\n",
       "      <td>10</td>\n",
       "      <td>5</td>\n",
       "      <td>2</td>\n",
       "      <td>2</td>\n",
       "      <td>...</td>\n",
       "      <td>8</td>\n",
       "      <td>2</td>\n",
       "      <td>2</td>\n",
       "      <td>2</td>\n",
       "      <td>3</td>\n",
       "      <td>2</td>\n",
       "      <td>6</td>\n",
       "      <td>36 to 50</td>\n",
       "      <td>Female</td>\n",
       "      <td>655.6</td>\n",
       "    </tr>\n",
       "    <tr>\n",
       "      <th>2</th>\n",
       "      <td>7/7/15</td>\n",
       "      <td>2</td>\n",
       "      <td>3</td>\n",
       "      <td>3</td>\n",
       "      <td>4</td>\n",
       "      <td>4</td>\n",
       "      <td>10</td>\n",
       "      <td>3</td>\n",
       "      <td>2</td>\n",
       "      <td>2</td>\n",
       "      <td>...</td>\n",
       "      <td>8</td>\n",
       "      <td>10</td>\n",
       "      <td>2</td>\n",
       "      <td>2</td>\n",
       "      <td>4</td>\n",
       "      <td>8</td>\n",
       "      <td>3</td>\n",
       "      <td>36 to 50</td>\n",
       "      <td>Female</td>\n",
       "      <td>631.6</td>\n",
       "    </tr>\n",
       "    <tr>\n",
       "      <th>3</th>\n",
       "      <td>7/7/15</td>\n",
       "      <td>3</td>\n",
       "      <td>3</td>\n",
       "      <td>10</td>\n",
       "      <td>3</td>\n",
       "      <td>10</td>\n",
       "      <td>7</td>\n",
       "      <td>2</td>\n",
       "      <td>5</td>\n",
       "      <td>2</td>\n",
       "      <td>...</td>\n",
       "      <td>5</td>\n",
       "      <td>7</td>\n",
       "      <td>5</td>\n",
       "      <td>1</td>\n",
       "      <td>5</td>\n",
       "      <td>2</td>\n",
       "      <td>0</td>\n",
       "      <td>51 or more</td>\n",
       "      <td>Female</td>\n",
       "      <td>622.7</td>\n",
       "    </tr>\n",
       "    <tr>\n",
       "      <th>4</th>\n",
       "      <td>7/7/15</td>\n",
       "      <td>5</td>\n",
       "      <td>1</td>\n",
       "      <td>3</td>\n",
       "      <td>3</td>\n",
       "      <td>10</td>\n",
       "      <td>4</td>\n",
       "      <td>2</td>\n",
       "      <td>4</td>\n",
       "      <td>2</td>\n",
       "      <td>...</td>\n",
       "      <td>7</td>\n",
       "      <td>0</td>\n",
       "      <td>0</td>\n",
       "      <td>2</td>\n",
       "      <td>8</td>\n",
       "      <td>1</td>\n",
       "      <td>5</td>\n",
       "      <td>51 or more</td>\n",
       "      <td>Female</td>\n",
       "      <td>663.9</td>\n",
       "    </tr>\n",
       "  </tbody>\n",
       "</table>\n",
       "<p>5 rows × 24 columns</p>\n",
       "</div>"
      ],
      "text/plain": [
       "  Timestamp  FRUITS_VEGGIES DAILY_STRESS  PLACES_VISITED  CORE_CIRCLE  \\\n",
       "0    7/7/15               3            2               2            5   \n",
       "1    7/7/15               2            3               4            3   \n",
       "2    7/7/15               2            3               3            4   \n",
       "3    7/7/15               3            3              10            3   \n",
       "4    7/7/15               5            1               3            3   \n",
       "\n",
       "   SUPPORTING_OTHERS  SOCIAL_NETWORK  ACHIEVEMENT  DONATION  BMI_RANGE  ...  \\\n",
       "0                  0               5            2         0          1  ...   \n",
       "1                  8              10            5         2          2  ...   \n",
       "2                  4              10            3         2          2  ...   \n",
       "3                 10               7            2         5          2  ...   \n",
       "4                 10               4            2         4          2  ...   \n",
       "\n",
       "   SLEEP_HOURS  LOST_VACATION  DAILY_SHOUTING  SUFFICIENT_INCOME  \\\n",
       "0            7              5               5                  1   \n",
       "1            8              2               2                  2   \n",
       "2            8             10               2                  2   \n",
       "3            5              7               5                  1   \n",
       "4            7              0               0                  2   \n",
       "\n",
       "   PERSONAL_AWARDS  TIME_FOR_PASSION  WEEKLY_MEDITATION         AGE  GENDER  \\\n",
       "0                4                 0                  5    36 to 50  Female   \n",
       "1                3                 2                  6    36 to 50  Female   \n",
       "2                4                 8                  3    36 to 50  Female   \n",
       "3                5                 2                  0  51 or more  Female   \n",
       "4                8                 1                  5  51 or more  Female   \n",
       "\n",
       "   WORK_LIFE_BALANCE_SCORE  \n",
       "0                    609.5  \n",
       "1                    655.6  \n",
       "2                    631.6  \n",
       "3                    622.7  \n",
       "4                    663.9  \n",
       "\n",
       "[5 rows x 24 columns]"
      ]
     },
     "execution_count": 26,
     "metadata": {},
     "output_type": "execute_result"
    }
   ],
   "source": [
    "data.head()"
   ]
  },
  {
   "cell_type": "code",
   "execution_count": 27,
   "metadata": {},
   "outputs": [
    {
     "data": {
      "text/html": [
       "<div>\n",
       "<style scoped>\n",
       "    .dataframe tbody tr th:only-of-type {\n",
       "        vertical-align: middle;\n",
       "    }\n",
       "\n",
       "    .dataframe tbody tr th {\n",
       "        vertical-align: top;\n",
       "    }\n",
       "\n",
       "    .dataframe thead th {\n",
       "        text-align: right;\n",
       "    }\n",
       "</style>\n",
       "<table border=\"1\" class=\"dataframe\">\n",
       "  <thead>\n",
       "    <tr style=\"text-align: right;\">\n",
       "      <th></th>\n",
       "      <th>FRUITS_VEGGIES</th>\n",
       "      <th>PLACES_VISITED</th>\n",
       "      <th>CORE_CIRCLE</th>\n",
       "      <th>SUPPORTING_OTHERS</th>\n",
       "      <th>SOCIAL_NETWORK</th>\n",
       "      <th>ACHIEVEMENT</th>\n",
       "      <th>DONATION</th>\n",
       "      <th>BMI_RANGE</th>\n",
       "      <th>TODO_COMPLETED</th>\n",
       "      <th>FLOW</th>\n",
       "      <th>DAILY_STEPS</th>\n",
       "      <th>LIVE_VISION</th>\n",
       "      <th>SLEEP_HOURS</th>\n",
       "      <th>LOST_VACATION</th>\n",
       "      <th>DAILY_SHOUTING</th>\n",
       "      <th>SUFFICIENT_INCOME</th>\n",
       "      <th>PERSONAL_AWARDS</th>\n",
       "      <th>TIME_FOR_PASSION</th>\n",
       "      <th>WEEKLY_MEDITATION</th>\n",
       "      <th>WORK_LIFE_BALANCE_SCORE</th>\n",
       "    </tr>\n",
       "  </thead>\n",
       "  <tbody>\n",
       "    <tr>\n",
       "      <th>count</th>\n",
       "      <td>15972.000000</td>\n",
       "      <td>15972.000000</td>\n",
       "      <td>15972.000000</td>\n",
       "      <td>15972.000000</td>\n",
       "      <td>15972.000000</td>\n",
       "      <td>15972.000000</td>\n",
       "      <td>15972.000000</td>\n",
       "      <td>15972.000000</td>\n",
       "      <td>15972.000000</td>\n",
       "      <td>15972.000000</td>\n",
       "      <td>15972.000000</td>\n",
       "      <td>15972.000000</td>\n",
       "      <td>15972.000000</td>\n",
       "      <td>15972.000000</td>\n",
       "      <td>15972.000000</td>\n",
       "      <td>15972.000000</td>\n",
       "      <td>15972.000000</td>\n",
       "      <td>15972.000000</td>\n",
       "      <td>15972.000000</td>\n",
       "      <td>15972.000000</td>\n",
       "    </tr>\n",
       "    <tr>\n",
       "      <th>mean</th>\n",
       "      <td>2.922677</td>\n",
       "      <td>5.232970</td>\n",
       "      <td>5.508077</td>\n",
       "      <td>5.616454</td>\n",
       "      <td>6.474267</td>\n",
       "      <td>4.000751</td>\n",
       "      <td>2.715314</td>\n",
       "      <td>1.410656</td>\n",
       "      <td>5.745993</td>\n",
       "      <td>3.194778</td>\n",
       "      <td>5.703606</td>\n",
       "      <td>3.752129</td>\n",
       "      <td>7.042888</td>\n",
       "      <td>2.898886</td>\n",
       "      <td>2.930879</td>\n",
       "      <td>1.728963</td>\n",
       "      <td>5.711558</td>\n",
       "      <td>3.326572</td>\n",
       "      <td>6.233346</td>\n",
       "      <td>666.751503</td>\n",
       "    </tr>\n",
       "    <tr>\n",
       "      <th>std</th>\n",
       "      <td>1.442694</td>\n",
       "      <td>3.311912</td>\n",
       "      <td>2.840334</td>\n",
       "      <td>3.242021</td>\n",
       "      <td>3.086672</td>\n",
       "      <td>2.755837</td>\n",
       "      <td>1.851586</td>\n",
       "      <td>0.491968</td>\n",
       "      <td>2.624097</td>\n",
       "      <td>2.357518</td>\n",
       "      <td>2.891013</td>\n",
       "      <td>3.230987</td>\n",
       "      <td>1.199044</td>\n",
       "      <td>3.692180</td>\n",
       "      <td>2.676301</td>\n",
       "      <td>0.444509</td>\n",
       "      <td>3.089630</td>\n",
       "      <td>2.729293</td>\n",
       "      <td>3.016571</td>\n",
       "      <td>45.019868</td>\n",
       "    </tr>\n",
       "    <tr>\n",
       "      <th>min</th>\n",
       "      <td>0.000000</td>\n",
       "      <td>0.000000</td>\n",
       "      <td>0.000000</td>\n",
       "      <td>0.000000</td>\n",
       "      <td>0.000000</td>\n",
       "      <td>0.000000</td>\n",
       "      <td>0.000000</td>\n",
       "      <td>1.000000</td>\n",
       "      <td>0.000000</td>\n",
       "      <td>0.000000</td>\n",
       "      <td>1.000000</td>\n",
       "      <td>0.000000</td>\n",
       "      <td>1.000000</td>\n",
       "      <td>0.000000</td>\n",
       "      <td>0.000000</td>\n",
       "      <td>1.000000</td>\n",
       "      <td>0.000000</td>\n",
       "      <td>0.000000</td>\n",
       "      <td>0.000000</td>\n",
       "      <td>480.000000</td>\n",
       "    </tr>\n",
       "    <tr>\n",
       "      <th>25%</th>\n",
       "      <td>2.000000</td>\n",
       "      <td>2.000000</td>\n",
       "      <td>3.000000</td>\n",
       "      <td>3.000000</td>\n",
       "      <td>4.000000</td>\n",
       "      <td>2.000000</td>\n",
       "      <td>1.000000</td>\n",
       "      <td>1.000000</td>\n",
       "      <td>4.000000</td>\n",
       "      <td>1.000000</td>\n",
       "      <td>3.000000</td>\n",
       "      <td>1.000000</td>\n",
       "      <td>6.000000</td>\n",
       "      <td>0.000000</td>\n",
       "      <td>1.000000</td>\n",
       "      <td>1.000000</td>\n",
       "      <td>3.000000</td>\n",
       "      <td>1.000000</td>\n",
       "      <td>4.000000</td>\n",
       "      <td>636.000000</td>\n",
       "    </tr>\n",
       "    <tr>\n",
       "      <th>50%</th>\n",
       "      <td>3.000000</td>\n",
       "      <td>5.000000</td>\n",
       "      <td>5.000000</td>\n",
       "      <td>5.000000</td>\n",
       "      <td>6.000000</td>\n",
       "      <td>3.000000</td>\n",
       "      <td>3.000000</td>\n",
       "      <td>1.000000</td>\n",
       "      <td>6.000000</td>\n",
       "      <td>3.000000</td>\n",
       "      <td>5.000000</td>\n",
       "      <td>3.000000</td>\n",
       "      <td>7.000000</td>\n",
       "      <td>0.000000</td>\n",
       "      <td>2.000000</td>\n",
       "      <td>2.000000</td>\n",
       "      <td>5.000000</td>\n",
       "      <td>3.000000</td>\n",
       "      <td>7.000000</td>\n",
       "      <td>667.700000</td>\n",
       "    </tr>\n",
       "    <tr>\n",
       "      <th>75%</th>\n",
       "      <td>4.000000</td>\n",
       "      <td>8.000000</td>\n",
       "      <td>8.000000</td>\n",
       "      <td>10.000000</td>\n",
       "      <td>10.000000</td>\n",
       "      <td>6.000000</td>\n",
       "      <td>5.000000</td>\n",
       "      <td>2.000000</td>\n",
       "      <td>8.000000</td>\n",
       "      <td>5.000000</td>\n",
       "      <td>8.000000</td>\n",
       "      <td>5.000000</td>\n",
       "      <td>8.000000</td>\n",
       "      <td>5.000000</td>\n",
       "      <td>4.000000</td>\n",
       "      <td>2.000000</td>\n",
       "      <td>9.000000</td>\n",
       "      <td>5.000000</td>\n",
       "      <td>10.000000</td>\n",
       "      <td>698.500000</td>\n",
       "    </tr>\n",
       "    <tr>\n",
       "      <th>max</th>\n",
       "      <td>5.000000</td>\n",
       "      <td>10.000000</td>\n",
       "      <td>10.000000</td>\n",
       "      <td>10.000000</td>\n",
       "      <td>10.000000</td>\n",
       "      <td>10.000000</td>\n",
       "      <td>5.000000</td>\n",
       "      <td>2.000000</td>\n",
       "      <td>10.000000</td>\n",
       "      <td>10.000000</td>\n",
       "      <td>10.000000</td>\n",
       "      <td>10.000000</td>\n",
       "      <td>10.000000</td>\n",
       "      <td>10.000000</td>\n",
       "      <td>10.000000</td>\n",
       "      <td>2.000000</td>\n",
       "      <td>10.000000</td>\n",
       "      <td>10.000000</td>\n",
       "      <td>10.000000</td>\n",
       "      <td>820.200000</td>\n",
       "    </tr>\n",
       "  </tbody>\n",
       "</table>\n",
       "</div>"
      ],
      "text/plain": [
       "       FRUITS_VEGGIES  PLACES_VISITED   CORE_CIRCLE  SUPPORTING_OTHERS  \\\n",
       "count    15972.000000    15972.000000  15972.000000       15972.000000   \n",
       "mean         2.922677        5.232970      5.508077           5.616454   \n",
       "std          1.442694        3.311912      2.840334           3.242021   \n",
       "min          0.000000        0.000000      0.000000           0.000000   \n",
       "25%          2.000000        2.000000      3.000000           3.000000   \n",
       "50%          3.000000        5.000000      5.000000           5.000000   \n",
       "75%          4.000000        8.000000      8.000000          10.000000   \n",
       "max          5.000000       10.000000     10.000000          10.000000   \n",
       "\n",
       "       SOCIAL_NETWORK   ACHIEVEMENT      DONATION     BMI_RANGE  \\\n",
       "count    15972.000000  15972.000000  15972.000000  15972.000000   \n",
       "mean         6.474267      4.000751      2.715314      1.410656   \n",
       "std          3.086672      2.755837      1.851586      0.491968   \n",
       "min          0.000000      0.000000      0.000000      1.000000   \n",
       "25%          4.000000      2.000000      1.000000      1.000000   \n",
       "50%          6.000000      3.000000      3.000000      1.000000   \n",
       "75%         10.000000      6.000000      5.000000      2.000000   \n",
       "max         10.000000     10.000000      5.000000      2.000000   \n",
       "\n",
       "       TODO_COMPLETED          FLOW   DAILY_STEPS   LIVE_VISION   SLEEP_HOURS  \\\n",
       "count    15972.000000  15972.000000  15972.000000  15972.000000  15972.000000   \n",
       "mean         5.745993      3.194778      5.703606      3.752129      7.042888   \n",
       "std          2.624097      2.357518      2.891013      3.230987      1.199044   \n",
       "min          0.000000      0.000000      1.000000      0.000000      1.000000   \n",
       "25%          4.000000      1.000000      3.000000      1.000000      6.000000   \n",
       "50%          6.000000      3.000000      5.000000      3.000000      7.000000   \n",
       "75%          8.000000      5.000000      8.000000      5.000000      8.000000   \n",
       "max         10.000000     10.000000     10.000000     10.000000     10.000000   \n",
       "\n",
       "       LOST_VACATION  DAILY_SHOUTING  SUFFICIENT_INCOME  PERSONAL_AWARDS  \\\n",
       "count   15972.000000    15972.000000       15972.000000     15972.000000   \n",
       "mean        2.898886        2.930879           1.728963         5.711558   \n",
       "std         3.692180        2.676301           0.444509         3.089630   \n",
       "min         0.000000        0.000000           1.000000         0.000000   \n",
       "25%         0.000000        1.000000           1.000000         3.000000   \n",
       "50%         0.000000        2.000000           2.000000         5.000000   \n",
       "75%         5.000000        4.000000           2.000000         9.000000   \n",
       "max        10.000000       10.000000           2.000000        10.000000   \n",
       "\n",
       "       TIME_FOR_PASSION  WEEKLY_MEDITATION  WORK_LIFE_BALANCE_SCORE  \n",
       "count      15972.000000       15972.000000             15972.000000  \n",
       "mean           3.326572           6.233346               666.751503  \n",
       "std            2.729293           3.016571                45.019868  \n",
       "min            0.000000           0.000000               480.000000  \n",
       "25%            1.000000           4.000000               636.000000  \n",
       "50%            3.000000           7.000000               667.700000  \n",
       "75%            5.000000          10.000000               698.500000  \n",
       "max           10.000000          10.000000               820.200000  "
      ]
     },
     "execution_count": 27,
     "metadata": {},
     "output_type": "execute_result"
    }
   ],
   "source": [
    "data.describe()"
   ]
  },
  {
   "cell_type": "code",
   "execution_count": 28,
   "metadata": {},
   "outputs": [
    {
     "name": "stdout",
     "output_type": "stream",
     "text": [
      "<class 'pandas.core.frame.DataFrame'>\n",
      "RangeIndex: 15972 entries, 0 to 15971\n",
      "Data columns (total 24 columns):\n",
      " #   Column                   Non-Null Count  Dtype  \n",
      "---  ------                   --------------  -----  \n",
      " 0   Timestamp                15972 non-null  object \n",
      " 1   FRUITS_VEGGIES           15972 non-null  int64  \n",
      " 2   DAILY_STRESS             15972 non-null  object \n",
      " 3   PLACES_VISITED           15972 non-null  int64  \n",
      " 4   CORE_CIRCLE              15972 non-null  int64  \n",
      " 5   SUPPORTING_OTHERS        15972 non-null  int64  \n",
      " 6   SOCIAL_NETWORK           15972 non-null  int64  \n",
      " 7   ACHIEVEMENT              15972 non-null  int64  \n",
      " 8   DONATION                 15972 non-null  int64  \n",
      " 9   BMI_RANGE                15972 non-null  int64  \n",
      " 10  TODO_COMPLETED           15972 non-null  int64  \n",
      " 11  FLOW                     15972 non-null  int64  \n",
      " 12  DAILY_STEPS              15972 non-null  int64  \n",
      " 13  LIVE_VISION              15972 non-null  int64  \n",
      " 14  SLEEP_HOURS              15972 non-null  int64  \n",
      " 15  LOST_VACATION            15972 non-null  int64  \n",
      " 16  DAILY_SHOUTING           15972 non-null  int64  \n",
      " 17  SUFFICIENT_INCOME        15972 non-null  int64  \n",
      " 18  PERSONAL_AWARDS          15972 non-null  int64  \n",
      " 19  TIME_FOR_PASSION         15972 non-null  int64  \n",
      " 20  WEEKLY_MEDITATION        15972 non-null  int64  \n",
      " 21  AGE                      15972 non-null  object \n",
      " 22  GENDER                   15972 non-null  object \n",
      " 23  WORK_LIFE_BALANCE_SCORE  15972 non-null  float64\n",
      "dtypes: float64(1), int64(19), object(4)\n",
      "memory usage: 2.9+ MB\n"
     ]
    }
   ],
   "source": [
    "data.info()"
   ]
  },
  {
   "cell_type": "markdown",
   "metadata": {},
   "source": [
    "As we can see, timestamp, gender, daily_stress and age are not integers."
   ]
  },
  {
   "cell_type": "markdown",
   "metadata": {},
   "source": [
    "Converting the column names to lower case"
   ]
  },
  {
   "cell_type": "code",
   "execution_count": 29,
   "metadata": {},
   "outputs": [],
   "source": [
    "data.columns= data.columns.str.lower()"
   ]
  },
  {
   "cell_type": "code",
   "execution_count": 30,
   "metadata": {},
   "outputs": [
    {
     "data": {
      "text/plain": [
       "Index(['timestamp', 'fruits_veggies', 'daily_stress', 'places_visited',\n",
       "       'core_circle', 'supporting_others', 'social_network', 'achievement',\n",
       "       'donation', 'bmi_range', 'todo_completed', 'flow', 'daily_steps',\n",
       "       'live_vision', 'sleep_hours', 'lost_vacation', 'daily_shouting',\n",
       "       'sufficient_income', 'personal_awards', 'time_for_passion',\n",
       "       'weekly_meditation', 'age', 'gender', 'work_life_balance_score'],\n",
       "      dtype='object')"
      ]
     },
     "execution_count": 30,
     "metadata": {},
     "output_type": "execute_result"
    }
   ],
   "source": [
    "data.columns"
   ]
  },
  {
   "cell_type": "markdown",
   "metadata": {},
   "source": [
    "## Timestamp"
   ]
  },
  {
   "cell_type": "code",
   "execution_count": 31,
   "metadata": {},
   "outputs": [
    {
     "data": {
      "text/plain": [
       "0        <class 'str'>\n",
       "1        <class 'str'>\n",
       "2        <class 'str'>\n",
       "3        <class 'str'>\n",
       "4        <class 'str'>\n",
       "             ...      \n",
       "15967    <class 'str'>\n",
       "15968    <class 'str'>\n",
       "15969    <class 'str'>\n",
       "15970    <class 'str'>\n",
       "15971    <class 'str'>\n",
       "Name: timestamp, Length: 15972, dtype: object"
      ]
     },
     "execution_count": 31,
     "metadata": {},
     "output_type": "execute_result"
    }
   ],
   "source": [
    "data['timestamp'].apply(type)"
   ]
  },
  {
   "cell_type": "code",
   "execution_count": 32,
   "metadata": {},
   "outputs": [],
   "source": [
    "data['timestamp'] = pd.to_datetime(data['timestamp'])"
   ]
  },
  {
   "cell_type": "markdown",
   "metadata": {},
   "source": [
    "## Exploratory data analysis"
   ]
  },
  {
   "cell_type": "markdown",
   "metadata": {},
   "source": [
    "How features are correlated with work_life_balance_score-WLBS?"
   ]
  },
  {
   "cell_type": "code",
   "execution_count": 33,
   "metadata": {},
   "outputs": [
    {
     "data": {
      "text/plain": [
       "fruits_veggies             0.452255\n",
       "places_visited             0.529615\n",
       "core_circle                0.507541\n",
       "supporting_others          0.548851\n",
       "social_network             0.412586\n",
       "achievement                0.561244\n",
       "donation                   0.458829\n",
       "bmi_range                 -0.251988\n",
       "todo_completed             0.545503\n",
       "flow                       0.478199\n",
       "daily_steps                0.422981\n",
       "live_vision                0.471311\n",
       "sleep_hours                0.196395\n",
       "lost_vacation             -0.266243\n",
       "daily_shouting            -0.273153\n",
       "sufficient_income          0.403561\n",
       "personal_awards            0.504224\n",
       "time_for_passion           0.516967\n",
       "weekly_meditation          0.416171\n",
       "work_life_balance_score    1.000000\n",
       "Name: work_life_balance_score, dtype: float64"
      ]
     },
     "execution_count": 33,
     "metadata": {},
     "output_type": "execute_result"
    }
   ],
   "source": [
    "data.corr()['work_life_balance_score'] "
   ]
  },
  {
   "cell_type": "markdown",
   "metadata": {},
   "source": [
    "How WLBS varies through the years?"
   ]
  },
  {
   "cell_type": "code",
   "execution_count": 34,
   "metadata": {},
   "outputs": [],
   "source": [
    "data['year'] = data['timestamp'].apply(lambda x: x.year)  \n"
   ]
  },
  {
   "cell_type": "code",
   "execution_count": 35,
   "metadata": {},
   "outputs": [
    {
     "data": {
      "text/plain": [
       "<AxesSubplot:xlabel='year', ylabel='count'>"
      ]
     },
     "execution_count": 35,
     "metadata": {},
     "output_type": "execute_result"
    },
    {
     "data": {
      "image/png": "[encoded data removed]",
      "text/plain": [
       "<Figure size 432x288 with 1 Axes>"
      ]
     },
     "metadata": {
      "needs_background": "light"
     },
     "output_type": "display_data"
    }
   ],
   "source": [
    "sns.countplot(x=data['year'],data=data)"
   ]
  },
  {
   "cell_type": "code",
   "execution_count": 36,
   "metadata": {},
   "outputs": [
    {
     "data": {
      "text/plain": [
       "<AxesSubplot:xlabel='year', ylabel='work_life_balance_score'>"
      ]
     },
     "execution_count": 36,
     "metadata": {},
     "output_type": "execute_result"
    },
    {
     "data": {
      "image/png": "[encoded data removed]",
      "text/plain": [
       "<Figure size 432x288 with 1 Axes>"
      ]
     },
     "metadata": {
      "needs_background": "light"
     },
     "output_type": "display_data"
    }
   ],
   "source": [
    "sns.boxplot(x=data['year'],y=data['work_life_balance_score'],data=data)"
   ]
  },
  {
   "cell_type": "markdown",
   "metadata": {},
   "source": [
    "Even though the number of respondents varies, the median of WLBS doesn't present significant variation along the years"
   ]
  },
  {
   "cell_type": "markdown",
   "metadata": {},
   "source": [
    " ## DAILY_STRESS"
   ]
  },
  {
   "cell_type": "markdown",
   "metadata": {},
   "source": [
    "Daily_stress values are strings, but before converting them to integers, lets get rid of a specific row which has a weird value \"1/1/00\"\n"
   ]
  },
  {
   "cell_type": "code",
   "execution_count": 37,
   "metadata": {},
   "outputs": [],
   "source": [
    "data.drop(data.index[10005],inplace=True)  "
   ]
  },
  {
   "cell_type": "code",
   "execution_count": 38,
   "metadata": {},
   "outputs": [
    {
     "data": {
      "text/plain": [
       "0"
      ]
     },
     "execution_count": 38,
     "metadata": {},
     "output_type": "execute_result"
    }
   ],
   "source": [
    "sum(data['daily_stress']==\"1/1/00\") "
   ]
  },
  {
   "cell_type": "markdown",
   "metadata": {},
   "source": [
    "Now, we can convert the DAILY_STRESS values to int64"
   ]
  },
  {
   "cell_type": "code",
   "execution_count": 39,
   "metadata": {},
   "outputs": [],
   "source": [
    "data['daily_stress'] = data['daily_stress'].astype(np.int64)"
   ]
  },
  {
   "cell_type": "code",
   "execution_count": 40,
   "metadata": {},
   "outputs": [
    {
     "name": "stdout",
     "output_type": "stream",
     "text": [
      "<class 'pandas.core.frame.DataFrame'>\n",
      "Int64Index: 15971 entries, 0 to 15971\n",
      "Data columns (total 25 columns):\n",
      " #   Column                   Non-Null Count  Dtype         \n",
      "---  ------                   --------------  -----         \n",
      " 0   timestamp                15971 non-null  datetime64[ns]\n",
      " 1   fruits_veggies           15971 non-null  int64         \n",
      " 2   daily_stress             15971 non-null  int64         \n",
      " 3   places_visited           15971 non-null  int64         \n",
      " 4   core_circle              15971 non-null  int64         \n",
      " 5   supporting_others        15971 non-null  int64         \n",
      " 6   social_network           15971 non-null  int64         \n",
      " 7   achievement              15971 non-null  int64         \n",
      " 8   donation                 15971 non-null  int64         \n",
      " 9   bmi_range                15971 non-null  int64         \n",
      " 10  todo_completed           15971 non-null  int64         \n",
      " 11  flow                     15971 non-null  int64         \n",
      " 12  daily_steps              15971 non-null  int64         \n",
      " 13  live_vision              15971 non-null  int64         \n",
      " 14  sleep_hours              15971 non-null  int64         \n",
      " 15  lost_vacation            15971 non-null  int64         \n",
      " 16  daily_shouting           15971 non-null  int64         \n",
      " 17  sufficient_income        15971 non-null  int64         \n",
      " 18  personal_awards          15971 non-null  int64         \n",
      " 19  time_for_passion         15971 non-null  int64         \n",
      " 20  weekly_meditation        15971 non-null  int64         \n",
      " 21  age                      15971 non-null  object        \n",
      " 22  gender                   15971 non-null  object        \n",
      " 23  work_life_balance_score  15971 non-null  float64       \n",
      " 24  year                     15971 non-null  int64         \n",
      "dtypes: datetime64[ns](1), float64(1), int64(21), object(2)\n",
      "memory usage: 3.2+ MB\n"
     ]
    }
   ],
   "source": [
    "data.info()"
   ]
  },
  {
   "cell_type": "markdown",
   "metadata": {},
   "source": [
    "In the survey used to obtain this dataset, people answered how much stress on a scale from 0 (not much stress) to 5 (a lot of stress) they typically experience everyday. Thus let's see the percentage of people under this stress scale."
   ]
  },
  {
   "cell_type": "code",
   "execution_count": 41,
   "metadata": {},
   "outputs": [],
   "source": [
    "stress_percentage = data['daily_stress'].value_counts()*100/data.shape[0]"
   ]
  },
  {
   "cell_type": "code",
   "execution_count": 42,
   "metadata": {},
   "outputs": [
    {
     "data": {
      "text/plain": [
       "Text(0.5, 1.0, 'Percentage of respondents per  daily stress ')"
      ]
     },
     "execution_count": 42,
     "metadata": {},
     "output_type": "execute_result"
    },
    {
     "data": {
      "image/png": "[encoded data removed]",
      "text/plain": [
       "<Figure size 432x288 with 1 Axes>"
      ]
     },
     "metadata": {},
     "output_type": "display_data"
    }
   ],
   "source": [
    "plt.pie(stress_percentage, labels=stress_percentage.index, autopct='%1.1f%%',textprops={'fontsize': 15})\n",
    "plt.title('Percentage of respondents per  daily stress ',bbox={'facecolor':'0.9', 'pad':5})"
   ]
  },
  {
   "cell_type": "markdown",
   "metadata": {},
   "source": [
    "Around 30 % of respondents are under a lot of daily stress."
   ]
  },
  {
   "cell_type": "code",
   "execution_count": 43,
   "metadata": {},
   "outputs": [
    {
     "data": {
      "image/png": "[encoded data removed]",
      "text/plain": [
       "<Figure size 432x288 with 1 Axes>"
      ]
     },
     "metadata": {
      "needs_background": "light"
     },
     "output_type": "display_data"
    }
   ],
   "source": [
    "ax = sns.countplot(x=\"daily_stress\", hue = \"gender\", data=data)\n",
    "plt.savefig('gender-stress.pdf', format='pdf')"
   ]
  },
  {
   "cell_type": "markdown",
   "metadata": {},
   "source": [
    "We infer from the countplot above that more women declared to experience a lot of stress than men. However, we should check how balanced is our input data."
   ]
  },
  {
   "cell_type": "code",
   "execution_count": 44,
   "metadata": {},
   "outputs": [
    {
     "name": "stdout",
     "output_type": "stream",
     "text": [
      "61.724375430467724\n",
      "38.275624569532276\n"
     ]
    }
   ],
   "source": [
    "fem_tot = data['gender'].value_counts()[0]\n",
    "male_tot = data['gender'].value_counts()[1]\n",
    "print(fem_tot * 100 / (fem_tot + male_tot))\n",
    "print(male_tot * 100 / (fem_tot + male_tot))"
   ]
  },
  {
   "cell_type": "markdown",
   "metadata": {},
   "source": [
    "About 62% of the total dataset is represented by women."
   ]
  },
  {
   "cell_type": "markdown",
   "metadata": {},
   "source": [
    "Thus, let's see how much of each group answered to experience lots of strees during the day."
   ]
  },
  {
   "cell_type": "code",
   "execution_count": 45,
   "metadata": {},
   "outputs": [],
   "source": [
    "fem = data[data['daily_stress'] >= 3]['gender'].value_counts()[0]\n",
    "male = data[data['daily_stress'] >= 3]['gender'].value_counts()[1]"
   ]
  },
  {
   "cell_type": "code",
   "execution_count": 46,
   "metadata": {},
   "outputs": [
    {
     "name": "stdout",
     "output_type": "stream",
     "text": [
      "62.97423412456888\n",
      "52.3801734009488\n"
     ]
    }
   ],
   "source": [
    "fem_percen = fem * 100 / fem_tot\n",
    "mal_percen = male * 100 / male_tot\n",
    "print(fem_percen)\n",
    "print(mal_percen)"
   ]
  },
  {
   "cell_type": "markdown",
   "metadata": {},
   "source": [
    "Therefore, when we calculate the percentage of men and women in both groups (female and male) subjected to much stress (3 or more on the scale), we have about 63% in the women group while in the men group the percentage is around 52%. Thus, due to the fact that most of the respondents are women, it seems that much more women are under lots of stress. However, the proportion in each group is not very different from each other."
   ]
  },
  {
   "cell_type": "markdown",
   "metadata": {},
   "source": [
    "How are features correlated with daily stress?"
   ]
  },
  {
   "cell_type": "code",
   "execution_count": 47,
   "metadata": {},
   "outputs": [
    {
     "data": {
      "text/plain": [
       "fruits_veggies            -0.094535\n",
       "daily_stress               1.000000\n",
       "places_visited            -0.134857\n",
       "core_circle               -0.120238\n",
       "supporting_others         -0.029852\n",
       "social_network             0.020930\n",
       "achievement               -0.110943\n",
       "donation                  -0.037721\n",
       "bmi_range                  0.083110\n",
       "todo_completed            -0.163727\n",
       "flow                      -0.129903\n",
       "daily_steps               -0.065511\n",
       "live_vision               -0.134155\n",
       "sleep_hours               -0.157037\n",
       "lost_vacation              0.196953\n",
       "daily_shouting             0.302669\n",
       "sufficient_income         -0.144573\n",
       "personal_awards           -0.042535\n",
       "time_for_passion          -0.158141\n",
       "weekly_meditation         -0.218660\n",
       "work_life_balance_score   -0.365399\n",
       "year                       0.011334\n",
       "Name: daily_stress, dtype: float64"
      ]
     },
     "execution_count": 47,
     "metadata": {},
     "output_type": "execute_result"
    }
   ],
   "source": [
    "data.corr()['daily_stress']"
   ]
  },
  {
   "cell_type": "markdown",
   "metadata": {},
   "source": [
    "As we can see, features that correlates the most to daily stress exposure are daily_shouting and lost_vacation."
   ]
  },
  {
   "cell_type": "markdown",
   "metadata": {},
   "source": [
    "## BMI RANGE"
   ]
  },
  {
   "cell_type": "code",
   "execution_count": 48,
   "metadata": {},
   "outputs": [
    {
     "data": {
      "text/plain": [
       "<AxesSubplot:xlabel='bmi_range', ylabel='count'>"
      ]
     },
     "execution_count": 48,
     "metadata": {},
     "output_type": "execute_result"
    },
    {
     "data": {
      "image/png": "[encoded data removed]",
      "text/plain": [
       "<Figure size 432x288 with 1 Axes>"
      ]
     },
     "metadata": {
      "needs_background": "light"
     },
     "output_type": "display_data"
    }
   ],
   "source": [
    "sns.countplot(x='bmi_range',data=data)"
   ]
  },
  {
   "cell_type": "markdown",
   "metadata": {},
   "source": [
    "Most of the respondents declared to have a bmi value below 25. "
   ]
  },
  {
   "cell_type": "code",
   "execution_count": 49,
   "metadata": {},
   "outputs": [
    {
     "data": {
      "text/plain": [
       "1    9413\n",
       "2    6558\n",
       "Name: bmi_range, dtype: int64"
      ]
     },
     "execution_count": 49,
     "metadata": {},
     "output_type": "execute_result"
    }
   ],
   "source": [
    "data['bmi_range'].value_counts()"
   ]
  },
  {
   "cell_type": "code",
   "execution_count": 50,
   "metadata": {},
   "outputs": [
    {
     "data": {
      "image/png": "[encoded data removed]",
      "text/plain": [
       "<Figure size 819.75x360 with 2 Axes>"
      ]
     },
     "metadata": {
      "needs_background": "light"
     },
     "output_type": "display_data"
    }
   ],
   "source": [
    "ax = sns.catplot(x=\"bmi_range\", kind=\"count\", hue=\"age\", col = \"gender\", data=data)"
   ]
  },
  {
   "cell_type": "markdown",
   "metadata": {},
   "source": [
    "The range with more people with a bmi value under 25 is from 21 to 35."
   ]
  },
  {
   "cell_type": "markdown",
   "metadata": {},
   "source": [
    "## Data preparation"
   ]
  },
  {
   "cell_type": "markdown",
   "metadata": {},
   "source": [
    "The columns \"age\", \"gender\", \"todo-completed\", \"sufficient_income\" and \"daily_stress\" are categorical features, so let's make them dummy variables in order to use them in our machine learning models."
   ]
  },
  {
   "cell_type": "code",
   "execution_count": 51,
   "metadata": {},
   "outputs": [],
   "source": [
    "data = pd.get_dummies(data, columns=['gender','age','todo_completed','sufficient_income','daily_stress'], drop_first=True)"
   ]
  },
  {
   "cell_type": "code",
   "execution_count": 52,
   "metadata": {},
   "outputs": [
    {
     "data": {
      "text/html": [
       "<div>\n",
       "<style scoped>\n",
       "    .dataframe tbody tr th:only-of-type {\n",
       "        vertical-align: middle;\n",
       "    }\n",
       "\n",
       "    .dataframe tbody tr th {\n",
       "        vertical-align: top;\n",
       "    }\n",
       "\n",
       "    .dataframe thead th {\n",
       "        text-align: right;\n",
       "    }\n",
       "</style>\n",
       "<table border=\"1\" class=\"dataframe\">\n",
       "  <thead>\n",
       "    <tr style=\"text-align: right;\">\n",
       "      <th></th>\n",
       "      <th>timestamp</th>\n",
       "      <th>fruits_veggies</th>\n",
       "      <th>places_visited</th>\n",
       "      <th>core_circle</th>\n",
       "      <th>supporting_others</th>\n",
       "      <th>social_network</th>\n",
       "      <th>achievement</th>\n",
       "      <th>donation</th>\n",
       "      <th>bmi_range</th>\n",
       "      <th>flow</th>\n",
       "      <th>...</th>\n",
       "      <th>todo_completed_7</th>\n",
       "      <th>todo_completed_8</th>\n",
       "      <th>todo_completed_9</th>\n",
       "      <th>todo_completed_10</th>\n",
       "      <th>sufficient_income_2</th>\n",
       "      <th>daily_stress_1</th>\n",
       "      <th>daily_stress_2</th>\n",
       "      <th>daily_stress_3</th>\n",
       "      <th>daily_stress_4</th>\n",
       "      <th>daily_stress_5</th>\n",
       "    </tr>\n",
       "  </thead>\n",
       "  <tbody>\n",
       "    <tr>\n",
       "      <th>0</th>\n",
       "      <td>2015-07-07</td>\n",
       "      <td>3</td>\n",
       "      <td>2</td>\n",
       "      <td>5</td>\n",
       "      <td>0</td>\n",
       "      <td>5</td>\n",
       "      <td>2</td>\n",
       "      <td>0</td>\n",
       "      <td>1</td>\n",
       "      <td>4</td>\n",
       "      <td>...</td>\n",
       "      <td>0</td>\n",
       "      <td>0</td>\n",
       "      <td>0</td>\n",
       "      <td>0</td>\n",
       "      <td>0</td>\n",
       "      <td>0</td>\n",
       "      <td>1</td>\n",
       "      <td>0</td>\n",
       "      <td>0</td>\n",
       "      <td>0</td>\n",
       "    </tr>\n",
       "    <tr>\n",
       "      <th>1</th>\n",
       "      <td>2015-07-07</td>\n",
       "      <td>2</td>\n",
       "      <td>4</td>\n",
       "      <td>3</td>\n",
       "      <td>8</td>\n",
       "      <td>10</td>\n",
       "      <td>5</td>\n",
       "      <td>2</td>\n",
       "      <td>2</td>\n",
       "      <td>2</td>\n",
       "      <td>...</td>\n",
       "      <td>0</td>\n",
       "      <td>0</td>\n",
       "      <td>0</td>\n",
       "      <td>0</td>\n",
       "      <td>1</td>\n",
       "      <td>0</td>\n",
       "      <td>0</td>\n",
       "      <td>1</td>\n",
       "      <td>0</td>\n",
       "      <td>0</td>\n",
       "    </tr>\n",
       "    <tr>\n",
       "      <th>2</th>\n",
       "      <td>2015-07-07</td>\n",
       "      <td>2</td>\n",
       "      <td>3</td>\n",
       "      <td>4</td>\n",
       "      <td>4</td>\n",
       "      <td>10</td>\n",
       "      <td>3</td>\n",
       "      <td>2</td>\n",
       "      <td>2</td>\n",
       "      <td>2</td>\n",
       "      <td>...</td>\n",
       "      <td>0</td>\n",
       "      <td>0</td>\n",
       "      <td>0</td>\n",
       "      <td>0</td>\n",
       "      <td>1</td>\n",
       "      <td>0</td>\n",
       "      <td>0</td>\n",
       "      <td>1</td>\n",
       "      <td>0</td>\n",
       "      <td>0</td>\n",
       "    </tr>\n",
       "    <tr>\n",
       "      <th>3</th>\n",
       "      <td>2015-07-07</td>\n",
       "      <td>3</td>\n",
       "      <td>10</td>\n",
       "      <td>3</td>\n",
       "      <td>10</td>\n",
       "      <td>7</td>\n",
       "      <td>2</td>\n",
       "      <td>5</td>\n",
       "      <td>2</td>\n",
       "      <td>5</td>\n",
       "      <td>...</td>\n",
       "      <td>0</td>\n",
       "      <td>0</td>\n",
       "      <td>0</td>\n",
       "      <td>0</td>\n",
       "      <td>0</td>\n",
       "      <td>0</td>\n",
       "      <td>0</td>\n",
       "      <td>1</td>\n",
       "      <td>0</td>\n",
       "      <td>0</td>\n",
       "    </tr>\n",
       "    <tr>\n",
       "      <th>4</th>\n",
       "      <td>2015-07-07</td>\n",
       "      <td>5</td>\n",
       "      <td>3</td>\n",
       "      <td>3</td>\n",
       "      <td>10</td>\n",
       "      <td>4</td>\n",
       "      <td>2</td>\n",
       "      <td>4</td>\n",
       "      <td>2</td>\n",
       "      <td>0</td>\n",
       "      <td>...</td>\n",
       "      <td>0</td>\n",
       "      <td>0</td>\n",
       "      <td>0</td>\n",
       "      <td>0</td>\n",
       "      <td>1</td>\n",
       "      <td>1</td>\n",
       "      <td>0</td>\n",
       "      <td>0</td>\n",
       "      <td>0</td>\n",
       "      <td>0</td>\n",
       "    </tr>\n",
       "  </tbody>\n",
       "</table>\n",
       "<p>5 rows × 40 columns</p>\n",
       "</div>"
      ],
      "text/plain": [
       "   timestamp  fruits_veggies  places_visited  core_circle  supporting_others  \\\n",
       "0 2015-07-07               3               2            5                  0   \n",
       "1 2015-07-07               2               4            3                  8   \n",
       "2 2015-07-07               2               3            4                  4   \n",
       "3 2015-07-07               3              10            3                 10   \n",
       "4 2015-07-07               5               3            3                 10   \n",
       "\n",
       "   social_network  achievement  donation  bmi_range  flow  ...  \\\n",
       "0               5            2         0          1     4  ...   \n",
       "1              10            5         2          2     2  ...   \n",
       "2              10            3         2          2     2  ...   \n",
       "3               7            2         5          2     5  ...   \n",
       "4               4            2         4          2     0  ...   \n",
       "\n",
       "   todo_completed_7  todo_completed_8  todo_completed_9  todo_completed_10  \\\n",
       "0                 0                 0                 0                  0   \n",
       "1                 0                 0                 0                  0   \n",
       "2                 0                 0                 0                  0   \n",
       "3                 0                 0                 0                  0   \n",
       "4                 0                 0                 0                  0   \n",
       "\n",
       "   sufficient_income_2  daily_stress_1  daily_stress_2  daily_stress_3  \\\n",
       "0                    0               0               1               0   \n",
       "1                    1               0               0               1   \n",
       "2                    1               0               0               1   \n",
       "3                    0               0               0               1   \n",
       "4                    1               1               0               0   \n",
       "\n",
       "   daily_stress_4  daily_stress_5  \n",
       "0               0               0  \n",
       "1               0               0  \n",
       "2               0               0  \n",
       "3               0               0  \n",
       "4               0               0  \n",
       "\n",
       "[5 rows x 40 columns]"
      ]
     },
     "execution_count": 52,
     "metadata": {},
     "output_type": "execute_result"
    }
   ],
   "source": [
    "data.head()"
   ]
  },
  {
   "cell_type": "code",
   "execution_count": 53,
   "metadata": {},
   "outputs": [
    {
     "name": "stdout",
     "output_type": "stream",
     "text": [
      "<class 'pandas.core.frame.DataFrame'>\n",
      "Int64Index: 15971 entries, 0 to 15971\n",
      "Data columns (total 40 columns):\n",
      " #   Column                   Non-Null Count  Dtype         \n",
      "---  ------                   --------------  -----         \n",
      " 0   timestamp                15971 non-null  datetime64[ns]\n",
      " 1   fruits_veggies           15971 non-null  int64         \n",
      " 2   places_visited           15971 non-null  int64         \n",
      " 3   core_circle              15971 non-null  int64         \n",
      " 4   supporting_others        15971 non-null  int64         \n",
      " 5   social_network           15971 non-null  int64         \n",
      " 6   achievement              15971 non-null  int64         \n",
      " 7   donation                 15971 non-null  int64         \n",
      " 8   bmi_range                15971 non-null  int64         \n",
      " 9   flow                     15971 non-null  int64         \n",
      " 10  daily_steps              15971 non-null  int64         \n",
      " 11  live_vision              15971 non-null  int64         \n",
      " 12  sleep_hours              15971 non-null  int64         \n",
      " 13  lost_vacation            15971 non-null  int64         \n",
      " 14  daily_shouting           15971 non-null  int64         \n",
      " 15  personal_awards          15971 non-null  int64         \n",
      " 16  time_for_passion         15971 non-null  int64         \n",
      " 17  weekly_meditation        15971 non-null  int64         \n",
      " 18  work_life_balance_score  15971 non-null  float64       \n",
      " 19  year                     15971 non-null  int64         \n",
      " 20  gender_Male              15971 non-null  uint8         \n",
      " 21  age_36 to 50             15971 non-null  uint8         \n",
      " 22  age_51 or more           15971 non-null  uint8         \n",
      " 23  age_Less than 20         15971 non-null  uint8         \n",
      " 24  todo_completed_1         15971 non-null  uint8         \n",
      " 25  todo_completed_2         15971 non-null  uint8         \n",
      " 26  todo_completed_3         15971 non-null  uint8         \n",
      " 27  todo_completed_4         15971 non-null  uint8         \n",
      " 28  todo_completed_5         15971 non-null  uint8         \n",
      " 29  todo_completed_6         15971 non-null  uint8         \n",
      " 30  todo_completed_7         15971 non-null  uint8         \n",
      " 31  todo_completed_8         15971 non-null  uint8         \n",
      " 32  todo_completed_9         15971 non-null  uint8         \n",
      " 33  todo_completed_10        15971 non-null  uint8         \n",
      " 34  sufficient_income_2      15971 non-null  uint8         \n",
      " 35  daily_stress_1           15971 non-null  uint8         \n",
      " 36  daily_stress_2           15971 non-null  uint8         \n",
      " 37  daily_stress_3           15971 non-null  uint8         \n",
      " 38  daily_stress_4           15971 non-null  uint8         \n",
      " 39  daily_stress_5           15971 non-null  uint8         \n",
      "dtypes: datetime64[ns](1), float64(1), int64(18), uint8(20)\n",
      "memory usage: 3.4 MB\n"
     ]
    }
   ],
   "source": [
    "data.info()"
   ]
  },
  {
   "cell_type": "markdown",
   "metadata": {},
   "source": [
    "Lets drop the timestamp column"
   ]
  },
  {
   "cell_type": "code",
   "execution_count": 54,
   "metadata": {},
   "outputs": [],
   "source": [
    "data.drop(['timestamp'],axis=1,inplace=True)"
   ]
  },
  {
   "cell_type": "markdown",
   "metadata": {},
   "source": [
    "After exploring this dataset, let's use the 'bmi_range' as our target and try to predict it based in the input features."
   ]
  },
  {
   "cell_type": "markdown",
   "metadata": {},
   "source": [
    "## Choosing the data"
   ]
  },
  {
   "cell_type": "code",
   "execution_count": 55,
   "metadata": {},
   "outputs": [
    {
     "name": "stdout",
     "output_type": "stream",
     "text": [
      "bmi corr: \n",
      "bmi_range                  1.000000\n",
      "age_51 or more             0.120770\n",
      "age_36 to 50               0.097905\n",
      "donation                   0.064543\n",
      "daily_shouting             0.060470\n",
      "daily_stress_5             0.055688\n",
      "year                       0.043691\n",
      "supporting_others          0.038558\n",
      "lost_vacation              0.036683\n",
      "daily_stress_4             0.031303\n",
      "todo_completed_3           0.029295\n",
      "flow                       0.026761\n",
      "todo_completed_1           0.021463\n",
      "social_network             0.019843\n",
      "todo_completed_4           0.019613\n",
      "personal_awards            0.019007\n",
      "todo_completed_2           0.013884\n",
      "daily_stress_3             0.013704\n",
      "todo_completed_6           0.010129\n",
      "todo_completed_5           0.005653\n",
      "live_vision                0.000088\n",
      "time_for_passion          -0.006237\n",
      "gender_Male               -0.010766\n",
      "sufficient_income_2       -0.011863\n",
      "todo_completed_10         -0.013517\n",
      "achievement               -0.019699\n",
      "todo_completed_8          -0.024276\n",
      "todo_completed_7          -0.024767\n",
      "core_circle               -0.025965\n",
      "daily_stress_2            -0.031684\n",
      "todo_completed_9          -0.034512\n",
      "daily_stress_1            -0.056779\n",
      "weekly_meditation         -0.078189\n",
      "fruits_veggies            -0.092976\n",
      "sleep_hours               -0.098156\n",
      "places_visited            -0.108054\n",
      "daily_steps               -0.131465\n",
      "age_Less than 20          -0.134983\n",
      "work_life_balance_score   -0.252026\n",
      "Name: bmi_range, dtype: float64\n"
     ]
    }
   ],
   "source": [
    "target = data['bmi_range']\n",
    "\n",
    "print('bmi corr: ')\n",
    "print(data.corr()['bmi_range'].sort_values(ascending = False))"
   ]
  },
  {
   "cell_type": "markdown",
   "metadata": {},
   "source": [
    "Dropping the data to be predicted"
   ]
  },
  {
   "cell_type": "code",
   "execution_count": 56,
   "metadata": {},
   "outputs": [
    {
     "name": "stdout",
     "output_type": "stream",
     "text": [
      "<class 'pandas.core.frame.DataFrame'>\n",
      "Int64Index: 15971 entries, 0 to 15971\n",
      "Data columns (total 37 columns):\n",
      " #   Column               Non-Null Count  Dtype\n",
      "---  ------               --------------  -----\n",
      " 0   fruits_veggies       15971 non-null  int64\n",
      " 1   places_visited       15971 non-null  int64\n",
      " 2   core_circle          15971 non-null  int64\n",
      " 3   supporting_others    15971 non-null  int64\n",
      " 4   social_network       15971 non-null  int64\n",
      " 5   achievement          15971 non-null  int64\n",
      " 6   donation             15971 non-null  int64\n",
      " 7   flow                 15971 non-null  int64\n",
      " 8   daily_steps          15971 non-null  int64\n",
      " 9   live_vision          15971 non-null  int64\n",
      " 10  sleep_hours          15971 non-null  int64\n",
      " 11  lost_vacation        15971 non-null  int64\n",
      " 12  daily_shouting       15971 non-null  int64\n",
      " 13  personal_awards      15971 non-null  int64\n",
      " 14  time_for_passion     15971 non-null  int64\n",
      " 15  weekly_meditation    15971 non-null  int64\n",
      " 16  year                 15971 non-null  int64\n",
      " 17  gender_Male          15971 non-null  uint8\n",
      " 18  age_36 to 50         15971 non-null  uint8\n",
      " 19  age_51 or more       15971 non-null  uint8\n",
      " 20  age_Less than 20     15971 non-null  uint8\n",
      " 21  todo_completed_1     15971 non-null  uint8\n",
      " 22  todo_completed_2     15971 non-null  uint8\n",
      " 23  todo_completed_3     15971 non-null  uint8\n",
      " 24  todo_completed_4     15971 non-null  uint8\n",
      " 25  todo_completed_5     15971 non-null  uint8\n",
      " 26  todo_completed_6     15971 non-null  uint8\n",
      " 27  todo_completed_7     15971 non-null  uint8\n",
      " 28  todo_completed_8     15971 non-null  uint8\n",
      " 29  todo_completed_9     15971 non-null  uint8\n",
      " 30  todo_completed_10    15971 non-null  uint8\n",
      " 31  sufficient_income_2  15971 non-null  uint8\n",
      " 32  daily_stress_1       15971 non-null  uint8\n",
      " 33  daily_stress_2       15971 non-null  uint8\n",
      " 34  daily_stress_3       15971 non-null  uint8\n",
      " 35  daily_stress_4       15971 non-null  uint8\n",
      " 36  daily_stress_5       15971 non-null  uint8\n",
      "dtypes: int64(17), uint8(20)\n",
      "memory usage: 3.0 MB\n"
     ]
    }
   ],
   "source": [
    "data_for_prediction = data.drop(columns =['bmi_range','work_life_balance_score'])\n",
    "data_for_prediction.info()"
   ]
  },
  {
   "cell_type": "markdown",
   "metadata": {},
   "source": [
    "## Spliting the data\n",
    "Now we split the data into training and testing sets. "
   ]
  },
  {
   "cell_type": "code",
   "execution_count": 57,
   "metadata": {},
   "outputs": [
    {
     "data": {
      "text/plain": [
       "Index(['fruits_veggies', 'places_visited', 'core_circle', 'supporting_others',\n",
       "       'social_network', 'achievement', 'donation', 'bmi_range', 'flow',\n",
       "       'daily_steps', 'live_vision', 'sleep_hours', 'lost_vacation',\n",
       "       'daily_shouting', 'personal_awards', 'time_for_passion',\n",
       "       'weekly_meditation', 'work_life_balance_score', 'year', 'gender_Male',\n",
       "       'age_36 to 50', 'age_51 or more', 'age_Less than 20',\n",
       "       'todo_completed_1', 'todo_completed_2', 'todo_completed_3',\n",
       "       'todo_completed_4', 'todo_completed_5', 'todo_completed_6',\n",
       "       'todo_completed_7', 'todo_completed_8', 'todo_completed_9',\n",
       "       'todo_completed_10', 'sufficient_income_2', 'daily_stress_1',\n",
       "       'daily_stress_2', 'daily_stress_3', 'daily_stress_4', 'daily_stress_5'],\n",
       "      dtype='object')"
      ]
     },
     "execution_count": 57,
     "metadata": {},
     "output_type": "execute_result"
    }
   ],
   "source": [
    "data.columns"
   ]
  },
  {
   "cell_type": "code",
   "execution_count": 58,
   "metadata": {},
   "outputs": [],
   "source": [
    "X = data_for_prediction"
   ]
  },
  {
   "cell_type": "code",
   "execution_count": 59,
   "metadata": {},
   "outputs": [],
   "source": [
    "y = target"
   ]
  },
  {
   "cell_type": "code",
   "execution_count": 60,
   "metadata": {},
   "outputs": [],
   "source": [
    "from sklearn.model_selection import train_test_split"
   ]
  },
  {
   "cell_type": "markdown",
   "metadata": {},
   "source": [
    "using 'stratify' in the splitting to make sure that the train_test_split will return training and test subsets with the same proportions of class labels as the input dataset."
   ]
  },
  {
   "cell_type": "code",
   "execution_count": 61,
   "metadata": {},
   "outputs": [],
   "source": [
    "X_train, X_test, y_train, y_test = train_test_split(X, y, test_size=0.3, random_state=101, stratify=y)"
   ]
  },
  {
   "cell_type": "markdown",
   "metadata": {},
   "source": [
    "Once we splitted our dataset, let's run two different classifier models in order to see how able they are to make good predictions."
   ]
  },
  {
   "cell_type": "markdown",
   "metadata": {},
   "source": [
    "## Experiment I : Random Forest Model"
   ]
  },
  {
   "cell_type": "markdown",
   "metadata": {},
   "source": [
    "## Training the Model\n"
   ]
  },
  {
   "cell_type": "code",
   "execution_count": 62,
   "metadata": {},
   "outputs": [],
   "source": [
    "from sklearn.ensemble import RandomForestClassifier"
   ]
  },
  {
   "cell_type": "code",
   "execution_count": 63,
   "metadata": {},
   "outputs": [],
   "source": [
    "model = RandomForestClassifier()"
   ]
  },
  {
   "cell_type": "code",
   "execution_count": 64,
   "metadata": {},
   "outputs": [
    {
     "data": {
      "text/plain": [
       "RandomForestClassifier()"
      ]
     },
     "execution_count": 64,
     "metadata": {},
     "output_type": "execute_result"
    }
   ],
   "source": [
    "model.fit(X_train,y_train)\n"
   ]
  },
  {
   "cell_type": "markdown",
   "metadata": {},
   "source": [
    "## Predicting Test Data\n",
    "Now that we have fitted our model, let's evaluate its performance by predicting off the test values."
   ]
  },
  {
   "cell_type": "code",
   "execution_count": 65,
   "metadata": {},
   "outputs": [],
   "source": [
    "prediction = model.predict(X_test)"
   ]
  },
  {
   "cell_type": "code",
   "execution_count": 66,
   "metadata": {},
   "outputs": [
    {
     "data": {
      "text/plain": [
       "0.6546327212020033"
      ]
     },
     "execution_count": 66,
     "metadata": {},
     "output_type": "execute_result"
    }
   ],
   "source": [
    "from sklearn.metrics import accuracy_score\n",
    "score = accuracy_score(y_test, prediction)\n",
    "score"
   ]
  },
  {
   "cell_type": "code",
   "execution_count": 67,
   "metadata": {},
   "outputs": [],
   "source": [
    "from sklearn.metrics import classification_report"
   ]
  },
  {
   "cell_type": "code",
   "execution_count": 68,
   "metadata": {},
   "outputs": [
    {
     "name": "stdout",
     "output_type": "stream",
     "text": [
      "              precision    recall  f1-score   support\n",
      "\n",
      "           1       0.67      0.82      0.74      2824\n",
      "           2       0.62      0.42      0.50      1968\n",
      "\n",
      "    accuracy                           0.65      4792\n",
      "   macro avg       0.64      0.62      0.62      4792\n",
      "weighted avg       0.65      0.65      0.64      4792\n",
      "\n"
     ]
    }
   ],
   "source": [
    "print(classification_report(y_test,prediction))"
   ]
  },
  {
   "cell_type": "markdown",
   "metadata": {},
   "source": [
    "## Confusion matrix"
   ]
  },
  {
   "cell_type": "code",
   "execution_count": 69,
   "metadata": {},
   "outputs": [],
   "source": [
    "from sklearn.metrics import confusion_matrix,ConfusionMatrixDisplay"
   ]
  },
  {
   "cell_type": "code",
   "execution_count": 70,
   "metadata": {},
   "outputs": [
    {
     "data": {
      "text/plain": [
       "<sklearn.metrics._plot.confusion_matrix.ConfusionMatrixDisplay at 0x7fedb2d73460>"
      ]
     },
     "execution_count": 70,
     "metadata": {},
     "output_type": "execute_result"
    },
    {
     "data": {
      "image/png": "[encoded data removed]",
      "text/plain": [
       "<Figure size 432x288 with 2 Axes>"
      ]
     },
     "metadata": {
      "needs_background": "light"
     },
     "output_type": "display_data"
    }
   ],
   "source": [
    "cm = confusion_matrix(y_test,prediction)\n",
    "cmd = ConfusionMatrixDisplay(cm, display_labels=['below 25','above 25'])\n",
    "cmd.plot()"
   ]
  },
  {
   "cell_type": "markdown",
   "metadata": {},
   "source": [
    "Now lets run a logistic regression model to compare with our previous model."
   ]
  },
  {
   "cell_type": "markdown",
   "metadata": {},
   "source": [
    "## Experiment II : Logistic Regression\n",
    "\n"
   ]
  },
  {
   "cell_type": "code",
   "execution_count": 71,
   "metadata": {},
   "outputs": [],
   "source": [
    "from sklearn.linear_model import LogisticRegression"
   ]
  },
  {
   "cell_type": "code",
   "execution_count": 72,
   "metadata": {},
   "outputs": [],
   "source": [
    "logmodel = LogisticRegression(max_iter=1000)"
   ]
  },
  {
   "cell_type": "code",
   "execution_count": 73,
   "metadata": {},
   "outputs": [
    {
     "data": {
      "text/plain": [
       "LogisticRegression(max_iter=1000)"
      ]
     },
     "execution_count": 73,
     "metadata": {},
     "output_type": "execute_result"
    }
   ],
   "source": [
    "logmodel.fit(X_train,y_train)"
   ]
  },
  {
   "cell_type": "markdown",
   "metadata": {},
   "source": [
    "## Predictions and Evaluations "
   ]
  },
  {
   "cell_type": "code",
   "execution_count": 74,
   "metadata": {},
   "outputs": [],
   "source": [
    "predictions = logmodel.predict(X_test)"
   ]
  },
  {
   "cell_type": "code",
   "execution_count": 75,
   "metadata": {},
   "outputs": [],
   "source": [
    "from sklearn.metrics import classification_report"
   ]
  },
  {
   "cell_type": "code",
   "execution_count": 76,
   "metadata": {},
   "outputs": [
    {
     "name": "stdout",
     "output_type": "stream",
     "text": [
      "              precision    recall  f1-score   support\n",
      "\n",
      "           1       0.66      0.79      0.72      2824\n",
      "           2       0.57      0.41      0.48      1968\n",
      "\n",
      "    accuracy                           0.63      4792\n",
      "   macro avg       0.61      0.60      0.60      4792\n",
      "weighted avg       0.62      0.63      0.62      4792\n",
      "\n"
     ]
    }
   ],
   "source": [
    "print(classification_report(y_test,predictions))"
   ]
  },
  {
   "cell_type": "markdown",
   "metadata": {},
   "source": [
    "## Confusion matrix"
   ]
  },
  {
   "cell_type": "code",
   "execution_count": 77,
   "metadata": {},
   "outputs": [],
   "source": [
    "from sklearn.metrics import confusion_matrix,ConfusionMatrixDisplay"
   ]
  },
  {
   "cell_type": "code",
   "execution_count": 78,
   "metadata": {},
   "outputs": [
    {
     "data": {
      "text/plain": [
       "<sklearn.metrics._plot.confusion_matrix.ConfusionMatrixDisplay at 0x7fedb0ca4a00>"
      ]
     },
     "execution_count": 78,
     "metadata": {},
     "output_type": "execute_result"
    },
    {
     "data": {
      "image/png": "[encoded data removed]",
      "text/plain": [
       "<Figure size 432x288 with 2 Axes>"
      ]
     },
     "metadata": {
      "needs_background": "light"
     },
     "output_type": "display_data"
    }
   ],
   "source": [
    "cm = confusion_matrix(y_test,predictions)\n",
    "cmd = ConfusionMatrixDisplay(cm, display_labels=['below 25','above 25'])\n",
    "cmd.plot()"
   ]
  },
  {
   "cell_type": "markdown",
   "metadata": {},
   "source": [
    "As we can see, the logistic regression model (as well as the random forest model) is predicting many cases belonging class 1 (below 25) when the true label is  in fact class 2 (above 25). To make sure that the model is certain that a case belongs to class 1, we guarantee that it only predicts that an example belongs to this class when the probability is equal or above 58%, which represents the percentage of respondents who declared to belong to class 1."
   ]
  },
  {
   "cell_type": "markdown",
   "metadata": {},
   "source": [
    "## Predictions and Evaluations - Increasing Threshold\n"
   ]
  },
  {
   "cell_type": "code",
   "execution_count": 79,
   "metadata": {},
   "outputs": [],
   "source": [
    "probab = logmodel.predict_proba(X_test)"
   ]
  },
  {
   "cell_type": "code",
   "execution_count": 80,
   "metadata": {},
   "outputs": [],
   "source": [
    "def zeros_to_two(x):\n",
    "    if x == 0:\n",
    "        return 2\n",
    "    return 1\n",
    "\n",
    "predictions2 = list(map(zeros_to_two, (probab[:,0] >= 0.58) * 1))"
   ]
  },
  {
   "cell_type": "code",
   "execution_count": 81,
   "metadata": {},
   "outputs": [],
   "source": [
    "from sklearn.metrics import classification_report"
   ]
  },
  {
   "cell_type": "code",
   "execution_count": 82,
   "metadata": {},
   "outputs": [
    {
     "name": "stdout",
     "output_type": "stream",
     "text": [
      "              precision    recall  f1-score   support\n",
      "\n",
      "           1       0.70      0.64      0.67      2824\n",
      "           2       0.54      0.61      0.57      1968\n",
      "\n",
      "    accuracy                           0.63      4792\n",
      "   macro avg       0.62      0.62      0.62      4792\n",
      "weighted avg       0.64      0.63      0.63      4792\n",
      "\n"
     ]
    }
   ],
   "source": [
    "print(classification_report(y_test,predictions2))"
   ]
  },
  {
   "cell_type": "markdown",
   "metadata": {},
   "source": [
    "## Confusion matrix"
   ]
  },
  {
   "cell_type": "code",
   "execution_count": 227,
   "metadata": {},
   "outputs": [],
   "source": [
    "from sklearn.metrics import confusion_matrix,ConfusionMatrixDisplay"
   ]
  },
  {
   "cell_type": "code",
   "execution_count": 228,
   "metadata": {},
   "outputs": [
    {
     "data": {
      "text/plain": [
       "<sklearn.metrics._plot.confusion_matrix.ConfusionMatrixDisplay at 0x7f7c45e0ea60>"
      ]
     },
     "execution_count": 228,
     "metadata": {},
     "output_type": "execute_result"
    },
    {
     "data": {
      "image/png": "[encoded data removed]",
      "text/plain": [
       "<Figure size 432x288 with 2 Axes>"
      ]
     },
     "metadata": {
      "needs_background": "light"
     },
     "output_type": "display_data"
    }
   ],
   "source": [
    "cm = confusion_matrix(y_test,predictions2)\n",
    "cmd = ConfusionMatrixDisplay(cm, display_labels=['below 25','above 25'])\n",
    "cmd.plot()"
   ]
  },
  {
   "cell_type": "markdown",
   "metadata": {},
   "source": [
    "By making the model only predicting an example as belonging to class 1 when the probability is higher than 58 % did not increase the accuracy, but on the other hand the true positive and true negative classes are much better predicted by the model, as a consequence the other metrics for class 2 were much improved. "
   ]
  },
  {
   "cell_type": "markdown",
   "metadata": {},
   "source": [
    "Another possibility to optimize the logistic regression model proposed here is to use GridSearchCV for hyperparameters tuning."
   ]
  },
  {
   "cell_type": "markdown",
   "metadata": {},
   "source": [
    "## GridSearchCV"
   ]
  },
  {
   "cell_type": "code",
   "execution_count": 66,
   "metadata": {},
   "outputs": [],
   "source": [
    "from sklearn.model_selection import GridSearchCV"
   ]
  },
  {
   "cell_type": "code",
   "execution_count": 67,
   "metadata": {},
   "outputs": [],
   "source": [
    "parameters = {\n",
    "    'max_iter': [1000,10000],\n",
    "    'penalty' : ['l1','l2','elasticnet'], \n",
    "    'C'       : np.logspace(-3,3,7),\n",
    "    'solver'  : ['newton-cg', 'lbfgs', 'liblinear','sag'],\n",
    "    'random_state':[0,42],\n",
    "    'multi_class':['auto', 'ovr', 'multinomial']\n",
    "}"
   ]
  },
  {
   "cell_type": "code",
   "execution_count": 68,
   "metadata": {},
   "outputs": [],
   "source": [
    "logreg = LogisticRegression()\n",
    "clf = GridSearchCV(logreg,                    \n",
    "                   param_grid = parameters,   \n",
    "                   scoring='accuracy',        \n",
    "                   cv=10) "
   ]
  },
  {
   "cell_type": "code",
   "execution_count": 69,
   "metadata": {},
   "outputs": [
    {
     "data": {
      "text/html": [
       "<style>#sk-container-id-3 {color: black;background-color: white;}#sk-container-id-3 pre{padding: 0;}#sk-container-id-3 div.sk-toggleable {background-color: white;}#sk-container-id-3 label.sk-toggleable__label {cursor: pointer;display: block;width: 100%;margin-bottom: 0;padding: 0.3em;box-sizing: border-box;text-align: center;}#sk-container-id-3 label.sk-toggleable__label-arrow:before {content: \"▸\";float: left;margin-right: 0.25em;color: #696969;}#sk-container-id-3 label.sk-toggleable__label-arrow:hover:before {color: black;}#sk-container-id-3 div.sk-estimator:hover label.sk-toggleable__label-arrow:before {color: black;}#sk-container-id-3 div.sk-toggleable__content {max-height: 0;max-width: 0;overflow: hidden;text-align: left;background-color: #f0f8ff;}#sk-container-id-3 div.sk-toggleable__content pre {margin: 0.2em;color: black;border-radius: 0.25em;background-color: #f0f8ff;}#sk-container-id-3 input.sk-toggleable__control:checked~div.sk-toggleable__content {max-height: 200px;max-width: 100%;overflow: auto;}#sk-container-id-3 input.sk-toggleable__control:checked~label.sk-toggleable__label-arrow:before {content: \"▾\";}#sk-container-id-3 div.sk-estimator input.sk-toggleable__control:checked~label.sk-toggleable__label {background-color: #d4ebff;}#sk-container-id-3 div.sk-label input.sk-toggleable__control:checked~label.sk-toggleable__label {background-color: #d4ebff;}#sk-container-id-3 input.sk-hidden--visually {border: 0;clip: rect(1px 1px 1px 1px);clip: rect(1px, 1px, 1px, 1px);height: 1px;margin: -1px;overflow: hidden;padding: 0;position: absolute;width: 1px;}#sk-container-id-3 div.sk-estimator {font-family: monospace;background-color: #f0f8ff;border: 1px dotted black;border-radius: 0.25em;box-sizing: border-box;margin-bottom: 0.5em;}#sk-container-id-3 div.sk-estimator:hover {background-color: #d4ebff;}#sk-container-id-3 div.sk-parallel-item::after {content: \"\";width: 100%;border-bottom: 1px solid gray;flex-grow: 1;}#sk-container-id-3 div.sk-label:hover label.sk-toggleable__label {background-color: #d4ebff;}#sk-container-id-3 div.sk-serial::before {content: \"\";position: absolute;border-left: 1px solid gray;box-sizing: border-box;top: 0;bottom: 0;left: 50%;z-index: 0;}#sk-container-id-3 div.sk-serial {display: flex;flex-direction: column;align-items: center;background-color: white;padding-right: 0.2em;padding-left: 0.2em;position: relative;}#sk-container-id-3 div.sk-item {position: relative;z-index: 1;}#sk-container-id-3 div.sk-parallel {display: flex;align-items: stretch;justify-content: center;background-color: white;position: relative;}#sk-container-id-3 div.sk-item::before, #sk-container-id-3 div.sk-parallel-item::before {content: \"\";position: absolute;border-left: 1px solid gray;box-sizing: border-box;top: 0;bottom: 0;left: 50%;z-index: -1;}#sk-container-id-3 div.sk-parallel-item {display: flex;flex-direction: column;z-index: 1;position: relative;background-color: white;}#sk-container-id-3 div.sk-parallel-item:first-child::after {align-self: flex-end;width: 50%;}#sk-container-id-3 div.sk-parallel-item:last-child::after {align-self: flex-start;width: 50%;}#sk-container-id-3 div.sk-parallel-item:only-child::after {width: 0;}#sk-container-id-3 div.sk-dashed-wrapped {border: 1px dashed gray;margin: 0 0.4em 0.5em 0.4em;box-sizing: border-box;padding-bottom: 0.4em;background-color: white;}#sk-container-id-3 div.sk-label label {font-family: monospace;font-weight: bold;display: inline-block;line-height: 1.2em;}#sk-container-id-3 div.sk-label-container {text-align: center;}#sk-container-id-3 div.sk-container {/* jupyter's `normalize.less` sets `[hidden] { display: none; }` but bootstrap.min.css set `[hidden] { display: none !important; }` so we also need the `!important` here to be able to override the default hidden behavior on the sphinx rendered scikit-learn.org. See: https://github.com/scikit-learn/scikit-learn/issues/21755 */display: inline-block !important;position: relative;}#sk-container-id-3 div.sk-text-repr-fallback {display: none;}</style><div id=\"sk-container-id-3\" class=\"sk-top-container\"><div class=\"sk-text-repr-fallback\"><pre>GridSearchCV(cv=10, estimator=LogisticRegression(),\n",
       "             param_grid={&#x27;C&#x27;: array([1.e-03, 1.e-02, 1.e-01, 1.e+00, 1.e+01, 1.e+02, 1.e+03]),\n",
       "                         &#x27;max_iter&#x27;: [1000, 10000],\n",
       "                         &#x27;multi_class&#x27;: [&#x27;auto&#x27;, &#x27;ovr&#x27;, &#x27;multinomial&#x27;],\n",
       "                         &#x27;penalty&#x27;: [&#x27;l1&#x27;, &#x27;l2&#x27;, &#x27;elasticnet&#x27;],\n",
       "                         &#x27;random_state&#x27;: [0, 42],\n",
       "                         &#x27;solver&#x27;: [&#x27;newton-cg&#x27;, &#x27;lbfgs&#x27;, &#x27;liblinear&#x27;, &#x27;sag&#x27;]},\n",
       "             scoring=&#x27;accuracy&#x27;)</pre><b>In a Jupyter environment, please rerun this cell to show the HTML representation or trust the notebook. <br />On GitHub, the HTML representation is unable to render, please try loading this page with nbviewer.org.</b></div><div class=\"sk-container\" hidden><div class=\"sk-item sk-dashed-wrapped\"><div class=\"sk-label-container\"><div class=\"sk-label sk-toggleable\"><input class=\"sk-toggleable__control sk-hidden--visually\" id=\"sk-estimator-id-3\" type=\"checkbox\" ><label for=\"sk-estimator-id-3\" class=\"sk-toggleable__label sk-toggleable__label-arrow\">GridSearchCV</label><div class=\"sk-toggleable__content\"><pre>GridSearchCV(cv=10, estimator=LogisticRegression(),\n",
       "             param_grid={&#x27;C&#x27;: array([1.e-03, 1.e-02, 1.e-01, 1.e+00, 1.e+01, 1.e+02, 1.e+03]),\n",
       "                         &#x27;max_iter&#x27;: [1000, 10000],\n",
       "                         &#x27;multi_class&#x27;: [&#x27;auto&#x27;, &#x27;ovr&#x27;, &#x27;multinomial&#x27;],\n",
       "                         &#x27;penalty&#x27;: [&#x27;l1&#x27;, &#x27;l2&#x27;, &#x27;elasticnet&#x27;],\n",
       "                         &#x27;random_state&#x27;: [0, 42],\n",
       "                         &#x27;solver&#x27;: [&#x27;newton-cg&#x27;, &#x27;lbfgs&#x27;, &#x27;liblinear&#x27;, &#x27;sag&#x27;]},\n",
       "             scoring=&#x27;accuracy&#x27;)</pre></div></div></div><div class=\"sk-parallel\"><div class=\"sk-parallel-item\"><div class=\"sk-item\"><div class=\"sk-label-container\"><div class=\"sk-label sk-toggleable\"><input class=\"sk-toggleable__control sk-hidden--visually\" id=\"sk-estimator-id-4\" type=\"checkbox\" ><label for=\"sk-estimator-id-4\" class=\"sk-toggleable__label sk-toggleable__label-arrow\">estimator: LogisticRegression</label><div class=\"sk-toggleable__content\"><pre>LogisticRegression()</pre></div></div></div><div class=\"sk-serial\"><div class=\"sk-item\"><div class=\"sk-estimator sk-toggleable\"><input class=\"sk-toggleable__control sk-hidden--visually\" id=\"sk-estimator-id-5\" type=\"checkbox\" ><label for=\"sk-estimator-id-5\" class=\"sk-toggleable__label sk-toggleable__label-arrow\">LogisticRegression</label><div class=\"sk-toggleable__content\"><pre>LogisticRegression()</pre></div></div></div></div></div></div></div></div></div></div>"
      ],
      "text/plain": [
       "GridSearchCV(cv=10, estimator=LogisticRegression(),\n",
       "             param_grid={'C': array([1.e-03, 1.e-02, 1.e-01, 1.e+00, 1.e+01, 1.e+02, 1.e+03]),\n",
       "                         'max_iter': [1000, 10000],\n",
       "                         'multi_class': ['auto', 'ovr', 'multinomial'],\n",
       "                         'penalty': ['l1', 'l2', 'elasticnet'],\n",
       "                         'random_state': [0, 42],\n",
       "                         'solver': ['newton-cg', 'lbfgs', 'liblinear', 'sag']},\n",
       "             scoring='accuracy')"
      ]
     },
     "execution_count": 69,
     "metadata": {},
     "output_type": "execute_result"
    }
   ],
   "source": [
    "import warnings\n",
    "warnings.filterwarnings('ignore')\n",
    "clf.fit(X_train,y_train)"
   ]
  },
  {
   "cell_type": "code",
   "execution_count": 70,
   "metadata": {},
   "outputs": [
    {
     "name": "stdout",
     "output_type": "stream",
     "text": [
      "Tuned Hyperparameters : {'C': 0.01, 'max_iter': 1000, 'multi_class': 'auto', 'penalty': 'l2', 'random_state': 0, 'solver': 'newton-cg'}\n",
      "Accuracy : 0.6554226997628134\n"
     ]
    }
   ],
   "source": [
    "print(\"Tuned Hyperparameters :\", clf.best_params_)\n",
    "print(\"Accuracy :\",clf.best_score_)"
   ]
  },
  {
   "cell_type": "markdown",
   "metadata": {},
   "source": [
    "By performing a parameters tunig the accuracy did not increased significantly."
   ]
  }
 ],
 "metadata": {
  "kernelspec": {
   "display_name": "datascience",
   "language": "python",
   "name": "datascience"
  },
  "language_info": {
   "codemirror_mode": {
    "name": "ipython",
    "version": 3
   },
   "file_extension": ".py",
   "mimetype": "text/x-python",
   "name": "python",
   "nbconvert_exporter": "python",
   "pygments_lexer": "ipython3",
   "version": "3.8.5"
  }
 },
 "nbformat": 4,
 "nbformat_minor": 1
}
